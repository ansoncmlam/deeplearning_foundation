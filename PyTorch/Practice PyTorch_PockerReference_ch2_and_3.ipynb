{
  "cells": [
    {
      "cell_type": "markdown",
      "metadata": {
        "id": "8wd8Z2Zywl_Y"
      },
      "source": [
        "Modified from Origin PyTorch Pocket Reference.\n",
        "Written by: Joe Papa. PUBLISHED BY: O'Reilly Media, Inc.\n",
        "https://learning.oreilly.com/library/view/pytorch-pocket-reference/9781492089995/"
      ]
    },
    {
      "cell_type": "code",
      "execution_count": null,
      "metadata": {
        "colab": {
          "base_uri": "https://localhost:8080/"
        },
        "id": "PSMIg5g3G9Oh",
        "outputId": "11aa0827-f43c-46c3-d847-cc914648b3aa"
      },
      "outputs": [
        {
          "name": "stdout",
          "output_type": "stream",
          "text": [
            "tensor([[ 5,  7,  9],\n",
            "        [13, 16, 39]])\n",
            "torch.Size([2, 3])\n"
          ]
        }
      ],
      "source": [
        "import torch\n",
        "x= torch.tensor([[1,2,3],[4,5,6]])\n",
        "y= torch.tensor([[4,5,6],[9,11,33]])\n",
        "\n",
        "z = x +y\n",
        "\n",
        "print(z)\n",
        "\n",
        "print(z.size())"
      ]
    },
    {
      "cell_type": "code",
      "execution_count": null,
      "metadata": {
        "colab": {
          "base_uri": "https://localhost:8080/"
        },
        "id": "hyQMpsajHP27",
        "outputId": "918c06b9-5efa-42ec-a65f-09e56701cb3c"
      },
      "outputs": [
        {
          "name": "stdout",
          "output_type": "stream",
          "text": [
            "tensor([[ 5,  7,  9],\n",
            "        [13, 16, 39]])\n",
            "torch.Size([2, 3])\n",
            "cpu\n"
          ]
        }
      ],
      "source": [
        "device = \"cuda\" if torch.cuda.is_available() else \"cpu\"\n",
        "\n",
        "x= torch.tensor([[1,2,3],[4,5,6]], device=device)\n",
        "y= torch.tensor([[4,5,6],[9,11,33]], device=device)\n",
        "\n",
        "z = x + y\n",
        "\n",
        "print(z)\n",
        "print(z.size())\n",
        "print(z.device)"
      ]
    },
    {
      "cell_type": "code",
      "execution_count": null,
      "metadata": {
        "colab": {
          "base_uri": "https://localhost:8080/"
        },
        "id": "6Rhe1N5TH3gs",
        "outputId": "3504ea13-b059-4ea8-e3b8-bd9bd75d46fa"
      },
      "outputs": [
        {
          "name": "stdout",
          "output_type": "stream",
          "text": [
            "tensor([[ 1.5835e-42,  4.3813e-41, -5.8920e+33,  ...,  4.3813e-41,\n",
            "          0.0000e+00,  0.0000e+00],\n",
            "        [ 1.0370e-43,  3.3418e-41, -5.8923e+33,  ...,  4.3813e-41,\n",
            "          0.0000e+00,  0.0000e+00],\n",
            "        [ 1.0510e-43,  4.3813e-41, -5.8928e+33,  ...,  3.3418e-41,\n",
            "          0.0000e+00,  0.0000e+00],\n",
            "        ...,\n",
            "        [ 1.7174e-28,  4.3813e-41,  2.8353e-31,  ...,  4.3814e-41,\n",
            "          2.4990e-30,  4.3814e-41],\n",
            "        [ 1.7172e-28,  4.3813e-41,  2.8352e-31,  ...,  4.3814e-41,\n",
            "          2.8352e-31,  4.3814e-41],\n",
            "        [ 2.4990e-30,  4.3814e-41,  1.7173e-28,  ...,  0.0000e+00,\n",
            "          0.0000e+00,  0.0000e+00]])\n",
            "torch.Size([100, 200])\n"
          ]
        }
      ],
      "source": [
        "emptyw =  torch.empty(100,200)\n",
        "print(emptyw)\n",
        "print(emptyw.size())"
      ]
    },
    {
      "cell_type": "code",
      "execution_count": null,
      "metadata": {
        "colab": {
          "base_uri": "https://localhost:8080/"
        },
        "id": "IU75N3L3IYgS",
        "outputId": "aaa8ae98-dd51-4129-acbf-b864b9eb224d"
      },
      "outputs": [
        {
          "name": "stdout",
          "output_type": "stream",
          "text": [
            "tensor([[0., 0., 0.,  ..., 0., 0., 0.],\n",
            "        [0., 0., 0.,  ..., 0., 0., 0.],\n",
            "        [0., 0., 0.,  ..., 0., 0., 0.],\n",
            "        ...,\n",
            "        [0., 0., 0.,  ..., 0., 0., 0.],\n",
            "        [0., 0., 0.,  ..., 0., 0., 0.],\n",
            "        [0., 0., 0.,  ..., 0., 0., 0.]])\n",
            "tensor([[1., 1., 1.,  ..., 1., 1., 1.],\n",
            "        [1., 1., 1.,  ..., 1., 1., 1.],\n",
            "        [1., 1., 1.,  ..., 1., 1., 1.],\n",
            "        ...,\n",
            "        [1., 1., 1.,  ..., 1., 1., 1.],\n",
            "        [1., 1., 1.,  ..., 1., 1., 1.],\n",
            "        [1., 1., 1.,  ..., 1., 1., 1.]])\n"
          ]
        }
      ],
      "source": [
        "zeros_w = torch.zeros(100,200)\n",
        "ones_w = torch.ones(100,200)\n",
        "print(zeros_w)\n",
        "print(ones_w)"
      ]
    },
    {
      "cell_type": "code",
      "execution_count": null,
      "metadata": {
        "colab": {
          "base_uri": "https://localhost:8080/"
        },
        "id": "XVGjR7gnIvni",
        "outputId": "04c1858e-362a-4f23-b6b4-887bffa4025c"
      },
      "outputs": [
        {
          "name": "stdout",
          "output_type": "stream",
          "text": [
            "tensor([[0.6082, 0.2804, 0.7306, 0.7030, 0.3951, 0.4991, 0.4846, 0.7773, 0.5862,\n",
            "         0.8573, 0.5510, 0.1174, 0.8739, 0.2883, 0.0419, 0.9424, 0.4890, 0.0070,\n",
            "         0.5059, 0.5304],\n",
            "        [0.3878, 0.9011, 0.3300, 0.5406, 0.3367, 0.1422, 0.2321, 0.0219, 0.3456,\n",
            "         0.3451, 0.1975, 0.9881, 0.3087, 0.9271, 0.4149, 0.3988, 0.6169, 0.9616,\n",
            "         0.1827, 0.0217],\n",
            "        [0.9264, 0.7756, 0.5797, 0.5455, 0.9101, 0.8823, 0.0088, 0.8787, 0.3238,\n",
            "         0.2867, 0.6868, 0.8592, 0.4706, 0.1401, 0.5820, 0.0512, 0.6135, 0.7387,\n",
            "         0.9830, 0.1236],\n",
            "        [0.0522, 0.0617, 0.7258, 0.3967, 0.4798, 0.9188, 0.2581, 0.6042, 0.7335,\n",
            "         0.0372, 0.5052, 0.4953, 0.4622, 0.0367, 0.5995, 0.0260, 0.5826, 0.8593,\n",
            "         0.6319, 0.7157],\n",
            "        [0.7230, 0.8893, 0.4540, 0.8878, 0.5156, 0.1702, 0.0898, 0.5809, 0.1753,\n",
            "         0.5695, 0.9505, 0.1602, 0.2800, 0.3892, 0.9545, 0.4354, 0.9560, 0.3237,\n",
            "         0.8254, 0.7612],\n",
            "        [0.1842, 0.6956, 0.7884, 0.0531, 0.8708, 0.9383, 0.2179, 0.5205, 0.7602,\n",
            "         0.8835, 0.5906, 0.8109, 0.5616, 0.5476, 0.0564, 0.9214, 0.0885, 0.8376,\n",
            "         0.4353, 0.1581],\n",
            "        [0.0374, 0.9218, 0.2057, 0.0800, 0.7295, 0.7584, 0.8742, 0.3734, 0.7306,\n",
            "         0.3298, 0.4495, 0.5155, 0.4211, 0.5744, 0.0343, 0.4423, 0.2615, 0.8413,\n",
            "         0.3303, 0.2440],\n",
            "        [0.6345, 0.9531, 0.7703, 0.5438, 0.4414, 0.6381, 0.3439, 0.1364, 0.0334,\n",
            "         0.6619, 0.8779, 0.9165, 0.3010, 0.4051, 0.2260, 0.6408, 0.7327, 0.2833,\n",
            "         0.9287, 0.6357],\n",
            "        [0.5804, 0.6306, 0.6078, 0.3819, 0.7602, 0.7406, 0.6532, 0.3499, 0.4059,\n",
            "         0.6084, 0.0826, 0.5252, 0.9705, 0.5124, 0.9503, 0.0236, 0.7876, 0.1694,\n",
            "         0.3071, 0.6891],\n",
            "        [0.8738, 0.4109, 0.0352, 0.4341, 0.1975, 0.3525, 0.9165, 0.8107, 0.8013,\n",
            "         0.9378, 0.1028, 0.1426, 0.0639, 0.4975, 0.2403, 0.5968, 0.9231, 0.5030,\n",
            "         0.4862, 0.3935]])\n",
            "randn: tensor([[ 0.5713,  0.8613, -1.1418,  0.2411,  0.3764,  0.8291,  0.6732, -1.0368,\n",
            "          1.9099,  0.6730,  0.1886,  1.5078, -0.5950,  0.5527, -0.3843, -0.4423,\n",
            "         -1.3559,  0.1583, -0.6818, -0.7545],\n",
            "        [-1.7364, -0.1307, -1.5768,  0.1634,  1.7927,  0.2120, -0.5117,  0.3917,\n",
            "         -0.2109,  1.1637,  0.4248,  0.7159,  2.0914, -0.3521,  0.4217, -1.1537,\n",
            "          0.1387, -0.3754,  1.3329,  1.7718],\n",
            "        [ 0.1333,  0.3683,  2.2678,  1.0818,  0.2781, -1.0160, -1.0242, -1.0036,\n",
            "         -0.5622,  1.3965,  0.4418,  0.7342,  0.4129, -0.2829, -1.8689, -1.6009,\n",
            "         -1.2304, -2.0285, -1.1816, -2.5296],\n",
            "        [-0.0920, -0.5068,  0.3964, -1.1890, -0.3210, -0.5132, -0.0785,  1.1023,\n",
            "         -2.0883,  0.2359, -0.4485,  0.5300,  0.5983,  0.4889,  0.7977,  0.8620,\n",
            "         -0.8765, -1.8072, -0.8231, -0.4220],\n",
            "        [-0.0978,  0.2735,  1.5614, -0.5178, -0.2020,  0.7776, -1.5247, -0.4853,\n",
            "          0.6358,  1.1360, -0.3058,  0.3127,  1.0140,  0.1459, -0.3460, -0.7891,\n",
            "          0.3617,  1.0979,  1.0845, -0.6872],\n",
            "        [ 0.2545,  0.3633,  0.2619,  1.5239, -0.6043,  1.5307, -0.4865,  1.1574,\n",
            "          0.4286, -0.1000,  0.6270,  0.3802, -0.1379,  0.5167, -1.3693, -0.0105,\n",
            "          1.3967,  0.5904,  0.3351,  0.0879],\n",
            "        [-0.3975,  0.3165, -0.2383, -0.4422, -0.8156, -2.4566, -0.9208,  0.7519,\n",
            "          0.4020,  0.3545,  1.4876, -0.1365, -0.9365, -0.0593, -0.8788, -0.7074,\n",
            "          0.9771, -0.8612,  0.7085,  0.2665],\n",
            "        [-0.9053, -1.2383,  1.7325,  0.2269, -0.2929, -1.4140,  0.8582,  0.1661,\n",
            "          0.6525,  1.6850, -1.1544, -0.0721, -0.2387,  0.5634,  0.1981,  0.5619,\n",
            "          0.6803,  1.9764,  0.9152, -0.0181],\n",
            "        [ 0.8678,  0.0796,  0.0602, -0.2883, -0.3002, -1.1313,  1.2325,  1.9846,\n",
            "         -0.2118, -1.1971, -1.1386, -0.7248,  0.9675,  0.3213, -0.6955, -0.0153,\n",
            "         -0.9035, -0.7237,  0.7728,  0.5364],\n",
            "        [ 2.0076,  0.7858, -0.6847,  0.7843,  1.1344, -1.1003,  0.4272, -0.3151,\n",
            "          0.1533,  0.9072,  0.1449, -0.2399,  1.1451, -1.0623, -0.6751,  0.9462,\n",
            "         -0.5300, -2.3536,  1.9848, -0.5746]])\n",
            "randint: tensor([[0, 1, 2, 2, 0, 4, 3, 3, 4, 0, 4, 0, 0, 2, 3, 2, 2, 0, 2, 4],\n",
            "        [1, 3, 2, 1, 3, 0, 0, 0, 1, 2, 3, 3, 1, 1, 1, 3, 0, 0, 3, 4],\n",
            "        [4, 4, 1, 3, 4, 2, 0, 1, 0, 0, 1, 4, 1, 0, 2, 4, 4, 0, 2, 2],\n",
            "        [3, 2, 0, 2, 2, 4, 1, 3, 3, 0, 1, 4, 2, 3, 1, 3, 2, 1, 3, 2],\n",
            "        [3, 3, 1, 4, 0, 0, 2, 1, 3, 1, 1, 2, 2, 4, 2, 2, 1, 1, 0, 4],\n",
            "        [0, 0, 1, 0, 1, 2, 4, 2, 1, 4, 1, 0, 3, 4, 2, 2, 0, 4, 1, 3],\n",
            "        [0, 4, 0, 4, 1, 3, 2, 4, 4, 0, 0, 3, 0, 2, 4, 4, 3, 0, 1, 3],\n",
            "        [0, 0, 0, 0, 4, 1, 4, 1, 0, 4, 4, 2, 2, 3, 3, 2, 0, 2, 4, 2],\n",
            "        [2, 0, 1, 3, 0, 4, 1, 4, 3, 3, 4, 4, 0, 2, 4, 2, 0, 4, 1, 0],\n",
            "        [3, 0, 2, 2, 0, 2, 3, 2, 1, 2, 2, 2, 4, 4, 1, 0, 3, 3, 3, 1]])\n"
          ]
        }
      ],
      "source": [
        "rand_w = torch.rand(10,20)\n",
        "randn_w = torch.randn(10,20)\n",
        "randint_w = torch.randint(0,5,(10,20))\n",
        "print(rand_w)\n",
        "print(f\"randn: {randn_w}\")\n",
        "print(f\"randint: {randint_w}\")"
      ]
    },
    {
      "cell_type": "code",
      "execution_count": null,
      "metadata": {
        "colab": {
          "base_uri": "https://localhost:8080/"
        },
        "id": "mHAPaQf4JPLT",
        "outputId": "8b884cdc-d275-4664-cdb8-e8fe02b8879a"
      },
      "outputs": [
        {
          "name": "stdout",
          "output_type": "stream",
          "text": [
            "comp1:tensor([[ 0.0000e+00,  0.0000e+00,  0.0000e+00,  0.0000e+00, 4.9407e-324],\n",
            "        [ 0.0000e+00,  0.0000e+00,  0.0000e+00,  0.0000e+00, 1.9763e-323],\n",
            "        [4.9407e-324, 1.7438e-309, 6.2811e-312, 2.4209e-322, 5.0607e-310]],\n",
            "       dtype=torch.float64)\n",
            "empty_like clone:tensor([[ 0.0000e+00,  0.0000e+00,  0.0000e+00,  0.0000e+00, 4.9407e-324],\n",
            "        [ 0.0000e+00,  0.0000e+00,  0.0000e+00,  0.0000e+00, 2.4209e-322],\n",
            "        [4.9407e-324, 1.7438e-309, 6.2811e-312, 3.2114e-322, 5.0607e-310]],\n",
            "       dtype=torch.float64)\n"
          ]
        }
      ],
      "source": [
        "comp1 = torch.empty((3,5), dtype=torch.float64, device=\"cpu\")\n",
        "clone_comp1 = torch.empty_like(comp1)\n",
        "print(f\"comp1:{comp1}\")\n",
        "print(f\"empty_like clone:{clone_comp1}\")"
      ]
    },
    {
      "cell_type": "code",
      "execution_count": null,
      "metadata": {
        "colab": {
          "base_uri": "https://localhost:8080/"
        },
        "id": "3TxQnapIJ87b",
        "outputId": "78fb5e44-d7d8-4448-9bf3-5e043ad8b6b5"
      },
      "outputs": [
        {
          "data": {
            "text/plain": [
              "tensor([0, 1, 2, 3, 4, 5, 6, 7, 8, 9])"
            ]
          },
          "execution_count": 25,
          "metadata": {},
          "output_type": "execute_result"
        }
      ],
      "source": [
        "arangeTensor = torch.arange(start = 0,end=10,step=1) #what is the usage of this?\n",
        "arangeTensor"
      ]
    },
    {
      "cell_type": "code",
      "execution_count": null,
      "metadata": {
        "colab": {
          "base_uri": "https://localhost:8080/"
        },
        "id": "f84T-w7fLnMK",
        "outputId": "9e36c225-a6a9-4ebc-e33e-3a9302589210"
      },
      "outputs": [
        {
          "data": {
            "text/plain": [
              "tensor([ 0.0000,  0.1010,  0.2020,  0.3030,  0.4040,  0.5051,  0.6061,  0.7071,\n",
              "         0.8081,  0.9091,  1.0101,  1.1111,  1.2121,  1.3131,  1.4141,  1.5152,\n",
              "         1.6162,  1.7172,  1.8182,  1.9192,  2.0202,  2.1212,  2.2222,  2.3232,\n",
              "         2.4242,  2.5253,  2.6263,  2.7273,  2.8283,  2.9293,  3.0303,  3.1313,\n",
              "         3.2323,  3.3333,  3.4343,  3.5354,  3.6364,  3.7374,  3.8384,  3.9394,\n",
              "         4.0404,  4.1414,  4.2424,  4.3434,  4.4444,  4.5455,  4.6465,  4.7475,\n",
              "         4.8485,  4.9495,  5.0505,  5.1515,  5.2525,  5.3535,  5.4545,  5.5556,\n",
              "         5.6566,  5.7576,  5.8586,  5.9596,  6.0606,  6.1616,  6.2626,  6.3636,\n",
              "         6.4646,  6.5657,  6.6667,  6.7677,  6.8687,  6.9697,  7.0707,  7.1717,\n",
              "         7.2727,  7.3737,  7.4747,  7.5758,  7.6768,  7.7778,  7.8788,  7.9798,\n",
              "         8.0808,  8.1818,  8.2828,  8.3838,  8.4848,  8.5859,  8.6869,  8.7879,\n",
              "         8.8889,  8.9899,  9.0909,  9.1919,  9.2929,  9.3939,  9.4949,  9.5960,\n",
              "         9.6970,  9.7980,  9.8990, 10.0000])"
            ]
          },
          "execution_count": 27,
          "metadata": {},
          "output_type": "execute_result"
        }
      ],
      "source": [
        "linspaceT = torch.linspace(0,10,steps=100)\n",
        "linspaceT"
      ]
    },
    {
      "cell_type": "code",
      "execution_count": null,
      "metadata": {
        "colab": {
          "base_uri": "https://localhost:8080/"
        },
        "id": "ou6Z_1rcMPSr",
        "outputId": "d1d24c18-eec6-4906-f22e-a0bc13ab0dac"
      },
      "outputs": [
        {
          "name": "stdout",
          "output_type": "stream",
          "text": [
            "1\n",
            "2\n"
          ]
        }
      ],
      "source": [
        "print(arangeTensor.ndim)\n",
        "print(w.ndim)"
      ]
    },
    {
      "cell_type": "code",
      "execution_count": null,
      "metadata": {
        "colab": {
          "base_uri": "https://localhost:8080/"
        },
        "id": "q45lhG4yvy7Q",
        "outputId": "46e2a181-bbd7-41f1-ea92-fcc26ee7f256"
      },
      "outputs": [
        {
          "name": "stdout",
          "output_type": "stream",
          "text": [
            "tensor([[3.1950e-43, 0.0000e+00, 0.0000e+00, 0.0000e+00, 1.3563e-19],\n",
            "        [1.3563e-19, 6.9636e+11, 4.4711e+21, 7.1221e+28, 1.1028e+21],\n",
            "        [7.2065e+31, 2.0194e-19, 7.0062e+22, 4.1586e+21, 7.3995e+20],\n",
            "        [1.8672e+25, 2.6217e+20, 8.3967e-33, 1.3563e-19, 1.3563e-19],\n",
            "        [1.9026e+31, 4.4711e+21, 6.7816e+28, 7.2251e+28, 1.8758e-19],\n",
            "        [3.6465e+12, 1.7476e-19, 3.1836e+06, 1.7979e-19, 3.3336e+03],\n",
            "        [1.1692e-19, 1.3563e-19, 6.7161e+08, 8.7530e-04, 2.9560e+21],\n",
            "        [7.3986e+20, 1.9421e+31, 1.8492e+20, 1.9069e-19, 7.3804e+28],\n",
            "        [2.0115e-19, 2.0535e-19, 7.1850e+22, 4.2963e+24, 7.1345e+31],\n",
            "        [6.8608e+22, 1.0832e+24, 1.8015e+25, 4.9643e+28, 7.1346e+31]])\n"
          ]
        }
      ],
      "source": [
        "sample = torch.empty([10,5])\n",
        "print(sample)"
      ]
    },
    {
      "cell_type": "code",
      "execution_count": null,
      "metadata": {
        "colab": {
          "base_uri": "https://localhost:8080/"
        },
        "id": "4RjjR7qRv09g",
        "outputId": "9d7026e7-f3a5-4cd5-e27f-803fd8d7c37a"
      },
      "outputs": [
        {
          "name": "stdout",
          "output_type": "stream",
          "text": [
            "tensor([[-2.4660e+01, -8.4099e-01, -2.7996e+00, -9.0217e-01, -1.1751e+00],\n",
            "        [-1.3282e-01,  3.7815e-01,  2.3475e-02, -5.7727e-01,  1.0330e+00],\n",
            "        [-2.9110e+00, -2.5089e-01,  1.5478e-01,  3.9641e-01, -1.2381e+00],\n",
            "        [ 6.7767e-01, -1.6637e-01, -4.2445e+00, -1.6311e+01, -9.1195e-01],\n",
            "        [ 1.3366e-01,  4.7155e+00,  2.0769e-01, -1.7947e+00, -1.7459e+00],\n",
            "        [ 3.1025e+00, -1.0786e+00,  1.9610e+00, -2.6433e-02, -2.0768e-01],\n",
            "        [-3.3846e+00,  6.0997e-02, -1.3306e+01,  2.0803e-02,  2.5757e+00],\n",
            "        [ 9.8136e+00, -1.0643e+00, -3.3920e-01, -6.6684e-01, -1.7135e+00],\n",
            "        [-5.0636e-01, -6.1784e-02, -1.9064e+00,  4.0760e-01,  6.5306e-02],\n",
            "        [-2.7340e+00, -4.0208e+00,  5.3922e-01, -3.9001e-01, -1.0223e+00]])\n"
          ]
        }
      ],
      "source": [
        "#creates a tensor of random numbers drawn from the Cauchy distribution.\n",
        "cauchy_tensor = sample.cauchy_()  #in-place  methods use the underscore postfix\n",
        "print(cauchy_tensor)"
      ]
    },
    {
      "cell_type": "code",
      "execution_count": null,
      "metadata": {
        "id": "5WemE-GEwieJ"
      },
      "outputs": [],
      "source": []
    },
    {
      "cell_type": "markdown",
      "metadata": {
        "id": "Fe_bYQFsxeTh"
      },
      "source": [
        "### Indexing, Slicing, Combining, and Splitting Tensors"
      ]
    },
    {
      "cell_type": "code",
      "execution_count": null,
      "metadata": {
        "colab": {
          "base_uri": "https://localhost:8080/"
        },
        "id": "AC9lYRL9xhSZ",
        "outputId": "50adee77-e5a3-4f36-ebff-e92f2af5e415"
      },
      "outputs": [
        {
          "name": "stdout",
          "output_type": "stream",
          "text": [
            "tensor([[1, 2],\n",
            "        [3, 4],\n",
            "        [5, 6],\n",
            "        [7, 8]])\n",
            "without .item():4\n",
            "[1,1].item() : 4\n"
          ]
        }
      ],
      "source": [
        "x = torch.tensor([[1,2],[3,4],[5,6],[7,8]])\n",
        "print(x)\n",
        "\n",
        "print(f\"without .item():{x[1,1]}\")\n",
        "\n",
        "print(f\"[1,1].item() : {x[1,1].item()}\")\n"
      ]
    },
    {
      "cell_type": "code",
      "execution_count": null,
      "metadata": {
        "colab": {
          "base_uri": "https://localhost:8080/"
        },
        "id": "3dho_UndxsYQ",
        "outputId": "db9497a5-4115-40cc-fc85-e92169c940ec"
      },
      "outputs": [
        {
          "name": "stdout",
          "output_type": "stream",
          "text": [
            "torch.Size([4, 2])\n",
            "torch.Size([4, 2])\n",
            "2\n"
          ]
        }
      ],
      "source": [
        "print(x.size())\n",
        "print(x.shape)\n",
        "print(x.ndim)"
      ]
    },
    {
      "cell_type": "code",
      "execution_count": null,
      "metadata": {
        "colab": {
          "base_uri": "https://localhost:8080/"
        },
        "id": "sXGdIGdmyFmf",
        "outputId": "a5fa3973-b96f-401f-a0c0-6c4bec5fcab0"
      },
      "outputs": [
        {
          "name": "stdout",
          "output_type": "stream",
          "text": [
            "tensor([[1, 2],\n",
            "        [3, 4],\n",
            "        [5, 6],\n",
            "        [7, 8]])\n",
            "2\n",
            "us: tensor([[[1, 2],\n",
            "         [3, 4],\n",
            "         [5, 6],\n",
            "         [7, 8]]])\n",
            "us.shape: torch.Size([1, 4, 2])\n",
            "us.ndim: 3\n",
            "us[0]: 1\n"
          ]
        }
      ],
      "source": [
        "s = x.squeeze(0)\n",
        "us = x.unsqueeze(0)\n",
        "print(s)\n",
        "print(s.ndim)\n",
        "print(f\"us: {us}\")\n",
        "print(f\"us.shape: {us.shape}\")\n",
        "print(f\"us.ndim: {us.ndim}\")\n",
        "print(f\"us[0,0,0]: {us[0,0,0].item()}\")"
      ]
    },
    {
      "cell_type": "code",
      "execution_count": null,
      "metadata": {
        "colab": {
          "base_uri": "https://localhost:8080/"
        },
        "id": "SqxjHYlezFTI",
        "outputId": "ce1b304b-093e-4d20-a148-f891cc86e5a1"
      },
      "outputs": [
        {
          "data": {
            "text/plain": [
              "tensor([[[1],\n",
              "         [2]],\n",
              "\n",
              "        [[3],\n",
              "         [4]],\n",
              "\n",
              "        [[5],\n",
              "         [6]],\n",
              "\n",
              "        [[7],\n",
              "         [8]]])"
            ]
          },
          "execution_count": 37,
          "metadata": {},
          "output_type": "execute_result"
        }
      ],
      "source": [
        "lastus = x.unsqueeze(-1)\n",
        "lastus"
      ]
    },
    {
      "cell_type": "code",
      "execution_count": null,
      "metadata": {
        "colab": {
          "base_uri": "https://localhost:8080/"
        },
        "id": "0pGiYiaQyLnI",
        "outputId": "11e8e6ca-3849-4da5-ffc2-89ac66ecec7f"
      },
      "outputs": [
        {
          "data": {
            "text/plain": [
              "tensor([[[1, 2],\n",
              "         [3, 4],\n",
              "         [5, 6],\n",
              "         [7, 8]]])"
            ]
          },
          "execution_count": 36,
          "metadata": {},
          "output_type": "execute_result"
        }
      ],
      "source": [
        "us[[0]] #how to visualize the effect of unsequeeze"
      ]
    },
    {
      "cell_type": "code",
      "execution_count": null,
      "metadata": {
        "colab": {
          "base_uri": "https://localhost:8080/"
        },
        "id": "mLK92NgT0QsI",
        "outputId": "e44d564e-6a60-44f7-efc4-25e4369fb12a"
      },
      "outputs": [
        {
          "name": "stdout",
          "output_type": "stream",
          "text": [
            "tensor([[1., 2., 3.],\n",
            "        [4., 5., 6.]], requires_grad=True)\n",
            "f is: 91.0\n",
            "f.grad is: tensor([[ 2.,  4.,  6.],\n",
            "        [ 8., 10., 12.]])\n"
          ]
        }
      ],
      "source": [
        "import torch\n",
        "x = torch.tensor([[1,2,3],[4,5,6]],\n",
        "                 dtype = torch.float, requires_grad=True)\n",
        "print(x)\n",
        "\n",
        "f = x.pow(2).sum()\n",
        "print(f\"f is: {f}\")\n",
        "\n",
        "f.backward()\n",
        "print(f\"f.grad is: {x.grad}\")"
      ]
    },
    {
      "cell_type": "markdown",
      "metadata": {
        "id": "-5OSP-argc6E"
      },
      "source": [
        "End of Chapter 2"
      ]
    },
    {
      "cell_type": "markdown",
      "metadata": {
        "id": "bOihB5_wQ2ls"
      },
      "source": [
        "## Chapter 3 DL Development with PyTorch"
      ]
    },
    {
      "cell_type": "code",
      "execution_count": null,
      "metadata": {
        "colab": {
          "base_uri": "https://localhost:8080/"
        },
        "id": "MJt6T-G7Q9K7",
        "outputId": "2359f5a3-5c2b-468b-ecf8-d9209e3f812a"
      },
      "outputs": [
        {
          "name": "stdout",
          "output_type": "stream",
          "text": [
            "Downloading https://www.cs.toronto.edu/~kriz/cifar-10-python.tar.gz to ./train/cifar-10-python.tar.gz\n"
          ]
        },
        {
          "name": "stderr",
          "output_type": "stream",
          "text": [
            "100%|██████████| 170498071/170498071 [00:02<00:00, 75983933.78it/s]\n"
          ]
        },
        {
          "name": "stdout",
          "output_type": "stream",
          "text": [
            "Extracting ./train/cifar-10-python.tar.gz to ./train/\n",
            "Dataset CIFAR10\n",
            "    Number of datapoints: 50000\n",
            "    Root location: ./train/\n",
            "    Split: Train\n"
          ]
        }
      ],
      "source": [
        "from torchvision.datasets import CIFAR10\n",
        "\n",
        "train_data = CIFAR10(root = \"./train/\",\n",
        "                     train=True,\n",
        "                     download=True)\n",
        "\n",
        "print(train_data)"
      ]
    },
    {
      "cell_type": "code",
      "execution_count": null,
      "metadata": {
        "colab": {
          "base_uri": "https://localhost:8080/"
        },
        "id": "_c6MFcHYSfzY",
        "outputId": "b92977aa-e21b-4be4-d433-5f2d658f096b"
      },
      "outputs": [
        {
          "name": "stdout",
          "output_type": "stream",
          "text": [
            "(50000, 32, 32, 3)\n"
          ]
        }
      ],
      "source": [
        "print(train_data.data.shape)"
      ]
    },
    {
      "cell_type": "code",
      "execution_count": null,
      "metadata": {
        "colab": {
          "base_uri": "https://localhost:8080/"
        },
        "id": "vcH9YmoHSrbz",
        "outputId": "2fa541f1-dd3d-4176-d59b-58c48913d9ab"
      },
      "outputs": [
        {
          "name": "stdout",
          "output_type": "stream",
          "text": [
            "(32, 32, 3)\n"
          ]
        }
      ],
      "source": [
        "print(train_data.data[0].shape)"
      ]
    },
    {
      "cell_type": "code",
      "execution_count": null,
      "metadata": {
        "colab": {
          "base_uri": "https://localhost:8080/"
        },
        "id": "pIcT3mv0S7nD",
        "outputId": "ac341daf-03f2-4b63-8471-5d67a27e3d60"
      },
      "outputs": [
        {
          "name": "stdout",
          "output_type": "stream",
          "text": [
            "['airplane', 'automobile', 'bird', 'cat', 'deer', 'dog', 'frog', 'horse', 'ship', 'truck']\n"
          ]
        }
      ],
      "source": [
        "print(train_data.classes)"
      ]
    },
    {
      "cell_type": "code",
      "execution_count": null,
      "metadata": {
        "colab": {
          "base_uri": "https://localhost:8080/"
        },
        "id": "pJi7xMeWUdva",
        "outputId": "3f48b2c2-2f32-4fea-8aaf-5203b5616dde"
      },
      "outputs": [
        {
          "name": "stdout",
          "output_type": "stream",
          "text": [
            "{'airplane': 0, 'automobile': 1, 'bird': 2, 'cat': 3, 'deer': 4, 'dog': 5, 'frog': 6, 'horse': 7, 'ship': 8, 'truck': 9}\n"
          ]
        }
      ],
      "source": [
        "print(train_data.class_to_idx)"
      ]
    },
    {
      "cell_type": "code",
      "execution_count": null,
      "metadata": {
        "colab": {
          "base_uri": "https://localhost:8080/"
        },
        "id": "M20kgTidU8sK",
        "outputId": "adeaf1d9-020e-4bda-e466-21f073893b99"
      },
      "outputs": [
        {
          "name": "stdout",
          "output_type": "stream",
          "text": [
            "<class 'tuple'>\n"
          ]
        }
      ],
      "source": [
        "print(type(train_data[0]))"
      ]
    },
    {
      "cell_type": "code",
      "execution_count": null,
      "metadata": {
        "colab": {
          "base_uri": "https://localhost:8080/"
        },
        "id": "ufWQpSPFVXOL",
        "outputId": "626d2557-403c-471f-f08e-0d7b71cf1fd8"
      },
      "outputs": [
        {
          "name": "stdout",
          "output_type": "stream",
          "text": [
            "2\n"
          ]
        }
      ],
      "source": [
        "print(len(train_data[0]))"
      ]
    },
    {
      "cell_type": "code",
      "execution_count": null,
      "metadata": {
        "colab": {
          "base_uri": "https://localhost:8080/"
        },
        "id": "aGI5RtSZVZyz",
        "outputId": "37793951-3517-45bb-9c96-4772cc409abb"
      },
      "outputs": [
        {
          "name": "stdout",
          "output_type": "stream",
          "text": [
            "<class 'torchvision.datasets.cifar.CIFAR10'>\n",
            "<class 'PIL.Image.Image'>\n",
            "<PIL.Image.Image image mode=RGB size=32x32 at 0x787F4FB5D240>\n"
          ]
        }
      ],
      "source": [
        "print(type(train_data))\n",
        "data, label = train_data[0]\n",
        "print(type(data))\n",
        "print(data)\n"
      ]
    },
    {
      "cell_type": "code",
      "execution_count": null,
      "metadata": {
        "colab": {
          "base_uri": "https://localhost:8080/"
        },
        "id": "29UAJTe0Viuj",
        "outputId": "1416b041-cb97-4408-84bc-e7a98632f53f"
      },
      "outputs": [
        {
          "name": "stdout",
          "output_type": "stream",
          "text": [
            "<class 'int'>\n",
            "6\n",
            "frog\n"
          ]
        }
      ],
      "source": [
        "print(type(label))\n",
        "print(label)\n",
        "print(train_data.classes[label])"
      ]
    },
    {
      "cell_type": "code",
      "execution_count": null,
      "metadata": {
        "colab": {
          "base_uri": "https://localhost:8080/"
        },
        "id": "TB-DPdn-V_QP",
        "outputId": "7285e82e-2a3a-427a-a08d-5683e624828c"
      },
      "outputs": [
        {
          "name": "stdout",
          "output_type": "stream",
          "text": [
            "Downloading https://www.cs.toronto.edu/~kriz/cifar-10-python.tar.gz to ./test/cifar-10-python.tar.gz\n"
          ]
        },
        {
          "name": "stderr",
          "output_type": "stream",
          "text": [
            "100%|██████████| 170498071/170498071 [00:03<00:00, 55243187.44it/s]\n"
          ]
        },
        {
          "name": "stdout",
          "output_type": "stream",
          "text": [
            "Extracting ./test/cifar-10-python.tar.gz to ./test/\n",
            "Dataset CIFAR10\n",
            "    Number of datapoints: 10000\n",
            "    Root location: ./test/\n",
            "    Split: Test\n",
            "(10000, 32, 32, 3)\n"
          ]
        }
      ],
      "source": [
        "test_data = CIFAR10(root=\"./test/\",\n",
        "                    train=False,\n",
        "                    download=True)\n",
        "\n",
        "print(test_data)\n",
        "print(test_data.data.shape)"
      ]
    },
    {
      "cell_type": "code",
      "execution_count": null,
      "metadata": {
        "colab": {
          "base_uri": "https://localhost:8080/"
        },
        "id": "OC78kcS_WgnS",
        "outputId": "16fc2e8f-fa97-48e6-bb5d-28efbf4d8703"
      },
      "outputs": [
        {
          "name": "stdout",
          "output_type": "stream",
          "text": [
            "Files already downloaded and verified\n"
          ]
        }
      ],
      "source": [
        "from torchvision import transforms\n",
        "\n",
        "train_transforms = transforms.Compose([\n",
        "    transforms.RandomCrop(32,padding=4),\n",
        "    transforms.RandomHorizontalFlip(),\n",
        "    transforms.ToTensor(),\n",
        "    transforms.Normalize(\n",
        "        mean = (0.4914, 0.4822, 0.4465), #1\n",
        "      std=(0.2023, 0.1994, 0.2010))])\n",
        "\n",
        "train_data = CIFAR10(root=\"./train/\",\n",
        "                     train=True,\n",
        "                     download=True,\n",
        "                     transform = train_transforms)"
      ]
    },
    {
      "cell_type": "code",
      "execution_count": null,
      "metadata": {
        "colab": {
          "base_uri": "https://localhost:8080/"
        },
        "id": "5JiNaLfwXZTW",
        "outputId": "326d7d8b-b3dd-412f-eda6-b6c75b233dfe"
      },
      "outputs": [
        {
          "name": "stdout",
          "output_type": "stream",
          "text": [
            "Dataset CIFAR10\n",
            "    Number of datapoints: 50000\n",
            "    Root location: ./train/\n",
            "    Split: Train\n",
            "    StandardTransform\n",
            "Transform: Compose(\n",
            "               RandomCrop(size=(32, 32), padding=4)\n",
            "               RandomHorizontalFlip(p=0.5)\n",
            "               ToTensor()\n",
            "               Normalize(mean=(0.4914, 0.4822, 0.4465), std=(0.2023, 0.1994, 0.201))\n",
            "           )\n"
          ]
        }
      ],
      "source": [
        "print(train_data)"
      ]
    },
    {
      "cell_type": "code",
      "execution_count": null,
      "metadata": {
        "colab": {
          "base_uri": "https://localhost:8080/"
        },
        "id": "GQNx_k0vYBrD",
        "outputId": "b91ae625-f67e-4758-84af-73db338d8351"
      },
      "outputs": [
        {
          "name": "stdout",
          "output_type": "stream",
          "text": [
            "StandardTransform\n",
            "Transform: Compose(\n",
            "               RandomCrop(size=(32, 32), padding=4)\n",
            "               RandomHorizontalFlip(p=0.5)\n",
            "               ToTensor()\n",
            "               Normalize(mean=(0.4914, 0.4822, 0.4465), std=(0.2023, 0.1994, 0.201))\n",
            "           )\n"
          ]
        }
      ],
      "source": [
        "print(train_data.transforms)"
      ]
    },
    {
      "cell_type": "code",
      "execution_count": null,
      "metadata": {
        "colab": {
          "base_uri": "https://localhost:8080/"
        },
        "id": "Awuyp2Y8YH1q",
        "outputId": "4b6b0a75-87b2-4435-ab9f-607fea3f61b4"
      },
      "outputs": [
        {
          "name": "stdout",
          "output_type": "stream",
          "text": [
            "<class 'torch.Tensor'>\n",
            "torch.Size([3, 32, 32])\n",
            "tensor([[[-2.4291, -2.4291, -2.4291,  ..., -2.4291, -2.4291, -2.4291],\n",
            "         [-2.4291, -2.4291, -2.4291,  ..., -2.4291, -2.4291, -2.4291],\n",
            "         [-2.4291, -2.4291, -2.4291,  ..., -2.4291, -2.4291, -2.4291],\n",
            "         ...,\n",
            "         [ 1.1765,  1.7387,  0.8858,  ...,  1.1959,  1.4867, -2.4291],\n",
            "         [-0.0253,  1.5642,  1.5061,  ...,  1.3122,  1.7581, -2.4291],\n",
            "         [-1.3435,  0.9245,  1.1765,  ...,  1.4673,  1.8356, -2.4291]],\n",
            "\n",
            "        [[-2.4183, -2.4183, -2.4183,  ..., -2.4183, -2.4183, -2.4183],\n",
            "         [-2.4183, -2.4183, -2.4183,  ..., -2.4183, -2.4183, -2.4183],\n",
            "         [-2.4183, -2.4183, -2.4183,  ..., -2.4183, -2.4183, -2.4183],\n",
            "         ...,\n",
            "         [ 0.6301,  1.1808,  0.1581,  ...,  0.1188,  0.6694, -2.4183],\n",
            "         [-0.5892,  0.9841,  0.8661,  ...,  0.2564,  1.0038, -2.4183],\n",
            "         [-1.8479,  0.4138,  0.6301,  ...,  0.5318,  1.1611, -2.4183]],\n",
            "\n",
            "        [[-2.2214, -2.2214, -2.2214,  ..., -2.2214, -2.2214, -2.2214],\n",
            "         [-2.2214, -2.2214, -2.2214,  ..., -2.2214, -2.2214, -2.2214],\n",
            "         [-2.2214, -2.2214, -2.2214,  ..., -2.2214, -2.2214, -2.2214],\n",
            "         ...,\n",
            "         [-0.4460, -0.1533, -0.8557,  ..., -1.7141, -0.6215, -2.2214],\n",
            "         [-1.2654, -0.1728, -0.2313,  ..., -1.9092, -0.5240, -2.2214],\n",
            "         [-2.0458, -0.5240, -0.3094,  ..., -1.7922, -0.4460, -2.2214]]])\n"
          ]
        }
      ],
      "source": [
        "data, label = train_data[0]\n",
        "\n",
        "print(type(data))\n",
        "\n",
        "print(data.size())\n",
        "\n",
        "print(data)"
      ]
    },
    {
      "cell_type": "code",
      "execution_count": null,
      "metadata": {
        "colab": {
          "base_uri": "https://localhost:8080/"
        },
        "id": "p2Vd2_Ykf6Ak",
        "outputId": "a95f5676-f024-407c-8e85-d41a40d74187"
      },
      "outputs": [
        {
          "name": "stdout",
          "output_type": "stream",
          "text": [
            "Dataset CIFAR10\n",
            "    Number of datapoints: 10000\n",
            "    Root location: ./test/\n",
            "    Split: Test\n",
            "    StandardTransform\n",
            "Transform: Compose(\n",
            "               ToTensor()\n",
            "               Normalize(mean=(0.4914, 0.4822, 0.4465), std=(0.2023, 0.1994, 0.201))\n",
            "           )\n"
          ]
        }
      ],
      "source": [
        "test_transforms = transforms.Compose([\n",
        "    transforms.ToTensor(),\n",
        "    transforms.Normalize(\n",
        "            (0.4914, 0.4822, 0.4465),\n",
        "            (0.2023, 0.1994, 0.2010)\n",
        "    )\n",
        "])\n",
        "\n",
        "# test_data = torchvision.datasets.CIFAR10(\n",
        "#     root=\"./test/\",\n",
        "#     train=False,\n",
        "#     transform=test_transforms\n",
        "# )\n",
        "\n",
        "test_data = CIFAR10(\n",
        "      root=\"./test/\",\n",
        "      train=False,\n",
        "      transform=test_transforms)\n",
        "print(test_data)"
      ]
    },
    {
      "cell_type": "code",
      "execution_count": null,
      "metadata": {
        "id": "7CrCi7cuYe4S"
      },
      "outputs": [],
      "source": [
        "import torch\n",
        "trainloader = torch.utils.data.DataLoader(\n",
        "    train_data,\n",
        "    batch_size=16,\n",
        "    shuffle=True\n",
        ")"
      ]
    },
    {
      "cell_type": "code",
      "execution_count": null,
      "metadata": {
        "colab": {
          "base_uri": "https://localhost:8080/"
        },
        "id": "ccNOV3mmZDPA",
        "outputId": "53cee5ba-5646-434f-b5c1-b70d55390186"
      },
      "outputs": [
        {
          "name": "stdout",
          "output_type": "stream",
          "text": [
            "torch.Size([16, 3, 32, 32])\n",
            "torch.Size([16])\n"
          ]
        }
      ],
      "source": [
        "data_batch, labels_batch = next(iter(trainloader))\n",
        "print(data_batch.size())\n",
        "\n",
        "print(labels_batch.size())"
      ]
    },
    {
      "cell_type": "code",
      "execution_count": null,
      "metadata": {
        "id": "HVX6n8B7aOsS"
      },
      "outputs": [],
      "source": [
        "testloader = torch.utils.data.DataLoader(\n",
        "    test_data,\n",
        "    batch_size=16,\n",
        "    shuffle=False  ## MyNote: shuffle the testset may messy test result\n",
        ")"
      ]
    },
    {
      "cell_type": "code",
      "execution_count": null,
      "metadata": {
        "colab": {
          "base_uri": "https://localhost:8080/",
          "height": 211
        },
        "id": "U4pydxQ_heXc",
        "outputId": "b503f6ec-61ec-4651-8e87-4fc24c36b7b9"
      },
      "outputs": [
        {
          "ename": "NameError",
          "evalue": "name 'dataset' is not defined",
          "output_type": "error",
          "traceback": [
            "\u001b[0;31m---------------------------------------------------------------------------\u001b[0m",
            "\u001b[0;31mNameError\u001b[0m                                 Traceback (most recent call last)",
            "\u001b[0;32m<ipython-input-36-2ba5989ae63e>\u001b[0m in \u001b[0;36m<cell line: 1>\u001b[0;34m()\u001b[0m\n\u001b[1;32m      1\u001b[0m torch.utils.data.DataLoader(\n\u001b[0;32m----> 2\u001b[0;31m                 \u001b[0mdataset\u001b[0m\u001b[0;34m,\u001b[0m\u001b[0;34m\u001b[0m\u001b[0;34m\u001b[0m\u001b[0m\n\u001b[0m\u001b[1;32m      3\u001b[0m                 \u001b[0mbatch_size\u001b[0m\u001b[0;34m=\u001b[0m\u001b[0;36m1\u001b[0m\u001b[0;34m,\u001b[0m\u001b[0;34m\u001b[0m\u001b[0;34m\u001b[0m\u001b[0m\n\u001b[1;32m      4\u001b[0m                 \u001b[0mshuffle\u001b[0m\u001b[0;34m=\u001b[0m\u001b[0;32mFalse\u001b[0m\u001b[0;34m,\u001b[0m\u001b[0;34m\u001b[0m\u001b[0;34m\u001b[0m\u001b[0m\n\u001b[1;32m      5\u001b[0m                 \u001b[0msampler\u001b[0m\u001b[0;34m=\u001b[0m\u001b[0;32mNone\u001b[0m\u001b[0;34m,\u001b[0m\u001b[0;34m\u001b[0m\u001b[0;34m\u001b[0m\u001b[0m\n",
            "\u001b[0;31mNameError\u001b[0m: name 'dataset' is not defined"
          ]
        }
      ],
      "source": [
        "torch.utils.data.DataLoader(\n",
        "                dataset,\n",
        "                batch_size=1,\n",
        "                shuffle=False,\n",
        "                sampler=None,\n",
        "                batch_sampler=None,\n",
        "                num_workers=0,\n",
        "                collate_fn=None,\n",
        "                pin_memory=False,\n",
        "                drop_last=False,\n",
        "                timeout=0,\n",
        "                worker_init_fn=None,\n",
        "                multiprocessing_context=None,\n",
        "                generator=None)"
      ]
    },
    {
      "cell_type": "code",
      "execution_count": null,
      "metadata": {
        "colab": {
          "base_uri": "https://localhost:8080/"
        },
        "id": "lBMjWe3AiBsH",
        "outputId": "c725740d-9f93-4482-b6b7-50712597e9de"
      },
      "outputs": [
        {
          "name": "stderr",
          "output_type": "stream",
          "text": [
            "/usr/local/lib/python3.10/dist-packages/torchvision/models/_utils.py:208: UserWarning: The parameter 'pretrained' is deprecated since 0.13 and may be removed in the future, please use 'weights' instead.\n",
            "  warnings.warn(\n",
            "/usr/local/lib/python3.10/dist-packages/torchvision/models/_utils.py:223: UserWarning: Arguments other than a weight enum or `None` for 'weights' are deprecated since 0.13 and may be removed in the future. The current behavior is equivalent to passing `weights=VGG16_Weights.IMAGENET1K_V1`. You can also use `weights=VGG16_Weights.DEFAULT` to get the most up-to-date weights.\n",
            "  warnings.warn(msg)\n"
          ]
        }
      ],
      "source": [
        "from torchvision import models\n",
        "\n",
        "vgg16 = models.vgg16(pretrained=True)"
      ]
    },
    {
      "cell_type": "code",
      "execution_count": null,
      "metadata": {
        "colab": {
          "base_uri": "https://localhost:8080/"
        },
        "id": "9yTXoglMiRFz",
        "outputId": "8c75d00b-9855-4426-84a8-d2e0a37bb7a0"
      },
      "outputs": [
        {
          "name": "stdout",
          "output_type": "stream",
          "text": [
            "Sequential(\n",
            "  (0): Linear(in_features=25088, out_features=4096, bias=True)\n",
            "  (1): ReLU(inplace=True)\n",
            "  (2): Dropout(p=0.5, inplace=False)\n",
            "  (3): Linear(in_features=4096, out_features=4096, bias=True)\n",
            "  (4): ReLU(inplace=True)\n",
            "  (5): Dropout(p=0.5, inplace=False)\n",
            "  (6): Linear(in_features=4096, out_features=1000, bias=True)\n",
            ")\n"
          ]
        }
      ],
      "source": [
        "print(vgg16.classifier)"
      ]
    },
    {
      "cell_type": "code",
      "execution_count": null,
      "metadata": {
        "colab": {
          "base_uri": "https://localhost:8080/"
        },
        "id": "eRSDf18RiTbs",
        "outputId": "25579d25-7c37-4082-e926-84b4a3ac5e55"
      },
      "outputs": [
        {
          "name": "stderr",
          "output_type": "stream",
          "text": [
            "Using cache found in /root/.cache/torch/hub/nvidia_DeepLearningExamples_torchhub\n",
            "/usr/local/lib/python3.10/dist-packages/torch/nn/utils/weight_norm.py:28: UserWarning: torch.nn.utils.weight_norm is deprecated in favor of torch.nn.utils.parametrizations.weight_norm.\n",
            "  warnings.warn(\"torch.nn.utils.weight_norm is deprecated in favor of torch.nn.utils.parametrizations.weight_norm.\")\n"
          ]
        }
      ],
      "source": [
        "import torch\n",
        "waveglow = torch.hub.load(\n",
        "    'nvidia/DeepLearningExamples:torchhub',\n",
        "    'nvidia_waveglow'\n",
        ")"
      ]
    },
    {
      "cell_type": "code",
      "execution_count": null,
      "metadata": {
        "colab": {
          "base_uri": "https://localhost:8080/"
        },
        "id": "oLXO8o43ii8M",
        "outputId": "c4b059de-9c62-4c2e-a02c-6d819642399b"
      },
      "outputs": [
        {
          "name": "stderr",
          "output_type": "stream",
          "text": [
            "Using cache found in /root/.cache/torch/hub/nvidia_DeepLearningExamples_torchhub\n"
          ]
        },
        {
          "data": {
            "text/plain": [
              "['nvidia_convnets_processing_utils',\n",
              " 'nvidia_efficientnet',\n",
              " 'nvidia_efficientnet_b0',\n",
              " 'nvidia_efficientnet_b4',\n",
              " 'nvidia_efficientnet_widese_b0',\n",
              " 'nvidia_efficientnet_widese_b4',\n",
              " 'nvidia_fastpitch',\n",
              " 'nvidia_gpunet',\n",
              " 'nvidia_hifigan',\n",
              " 'nvidia_resneXt',\n",
              " 'nvidia_resnet50',\n",
              " 'nvidia_resnext101_32x4d',\n",
              " 'nvidia_se_resnext101_32x4d',\n",
              " 'nvidia_ssd',\n",
              " 'nvidia_ssd_processing_utils',\n",
              " 'nvidia_tacotron2',\n",
              " 'nvidia_textprocessing_utils',\n",
              " 'nvidia_tft',\n",
              " 'nvidia_tft_data_utils',\n",
              " 'nvidia_tts_utils',\n",
              " 'nvidia_waveglow']"
            ]
          },
          "execution_count": 40,
          "metadata": {},
          "output_type": "execute_result"
        }
      ],
      "source": [
        "torch.hub.list('nvidia/DeepLearningExamples:torchhub')"
      ]
    },
    {
      "cell_type": "code",
      "execution_count": null,
      "metadata": {
        "id": "3pr0AMYqi-YV"
      },
      "outputs": [],
      "source": [
        "import torch.nn as nn\n",
        "import torch.nn.functional as F\n",
        "\n",
        "class SimpleNet(nn.Module):\n",
        "    def __init__(self):\n",
        "        super(SimpleNet, self).__init__()\n",
        "        self.fc1 = nn.Linear(2048,256)\n",
        "        self.fc2 = nn.Linear(256,64)\n",
        "        self.fc3 = nn.Linear(64,2)\n",
        "\n",
        "    def forward(self, x):\n",
        "        x = x.view(-1,2048) ### I don't know much about this effect, flat out the last dimension into 2048?\n",
        "        x = F.relu(self.fc1(x))\n",
        "        x = F.relu(self.fc2(x))\n",
        "        x = F.softmax(self.fc3(x),dim=1)\n",
        "        return x"
      ]
    },
    {
      "cell_type": "code",
      "execution_count": null,
      "metadata": {
        "colab": {
          "base_uri": "https://localhost:8080/"
        },
        "id": "TBGnWotuljTc",
        "outputId": "88a790e8-76b8-40d0-ddad-3948edc2d30a"
      },
      "outputs": [
        {
          "name": "stdout",
          "output_type": "stream",
          "text": [
            "SimpleNet(\n",
            "  (fc1): Linear(in_features=2048, out_features=256, bias=True)\n",
            "  (fc2): Linear(in_features=256, out_features=64, bias=True)\n",
            "  (fc3): Linear(in_features=64, out_features=2, bias=True)\n",
            ")\n"
          ]
        }
      ],
      "source": [
        "simplenet=SimpleNet()\n",
        "print(simplenet)"
      ]
    },
    {
      "cell_type": "code",
      "execution_count": null,
      "metadata": {
        "id": "-htMkCF4lrFa"
      },
      "outputs": [],
      "source": [
        "input = torch.rand(2048)\n",
        "output = simplenet(input)"
      ]
    },
    {
      "cell_type": "code",
      "execution_count": null,
      "metadata": {
        "colab": {
          "base_uri": "https://localhost:8080/"
        },
        "id": "TnmqgCHLl0AL",
        "outputId": "9d22e44b-4860-44f3-ee63-3e6759703e11"
      },
      "outputs": [
        {
          "data": {
            "text/plain": [
              "tensor([[0.5208, 0.4792]], grad_fn=<SoftmaxBackward0>)"
            ]
          },
          "execution_count": 44,
          "metadata": {},
          "output_type": "execute_result"
        }
      ],
      "source": [
        "output"
      ]
    },
    {
      "cell_type": "code",
      "execution_count": null,
      "metadata": {
        "id": "2-F7d-Hdl1lK"
      },
      "outputs": [],
      "source": []
    },
    {
      "cell_type": "markdown",
      "metadata": {
        "id": "C3pvgdozl7T6"
      },
      "source": [
        "### Training\n",
        "##### Fundamental training loop"
      ]
    },
    {
      "cell_type": "code",
      "execution_count": null,
      "metadata": {
        "id": "TwElOJ6kl8hb"
      },
      "outputs": [],
      "source": [
        "from torch import nn ##for building layers\n",
        "import torch.nn.functional as F ## for forward function\n",
        "\n",
        "class LeNet5(nn.Module):\n",
        "\n",
        "    def __init__(self):\n",
        "        super(LeNet5, self).__init__()\n",
        "        self.conv1 = nn.Conv2d(3,6,5)\n",
        "        self.conv2 = nn.Conv2d(6,16,5)\n",
        "        self.fc1 = nn.Linear(16*5*5, 120)\n",
        "        self.fc2 = nn.Linear(120,84)\n",
        "        self.fc3 = nn.Linear(84,10)\n",
        "\n",
        "    def forward(self, x):\n",
        "        x = F.max_pool2d(F.relu(self.conv1(x)),(2,2))\n",
        "        x = F.max_pool2d(F.relu(self.conv2(x)),2)\n",
        "        x = x.view(-1,int(x.nelement()/x.shape[0]))\n",
        "        x = F.relu(self.fc1(x))\n",
        "        x = F.relu(self.fc2(x))\n",
        "        x = self.fc3(x)\n",
        "        return x\n",
        "\n",
        "device = (\"cuda\" if torch.cuda.is_available() else \"cpu\")\n",
        "model = LeNet5().to(device=device)"
      ]
    },
    {
      "cell_type": "code",
      "execution_count": null,
      "metadata": {
        "id": "cJse4VcYnmOT"
      },
      "outputs": [],
      "source": [
        "from torch import optim\n",
        "from torch import nn ### why import again? he copied codes from other place?\n",
        "\n",
        "criterion = nn.CrossEntropyLoss()\n",
        "optimizer = optim.SGD(model.parameters(),\n",
        "                      lr=0.001,\n",
        "                      momentum=0.9)"
      ]
    },
    {
      "cell_type": "code",
      "execution_count": null,
      "metadata": {
        "colab": {
          "base_uri": "https://localhost:8080/"
        },
        "id": "y3RjuyomoF9E",
        "outputId": "11a1e85c-45af-4049-efa3-201b71d35854"
      },
      "outputs": [
        {
          "name": "stdout",
          "output_type": "stream",
          "text": [
            "Epoch: 0 Loss: 1.9716070209884644\n",
            "Epoch: 1 Loss: 1.6064669806289673\n",
            "Epoch: 2 Loss: 1.4704029151153564\n",
            "Epoch: 3 Loss: 1.3795007964897157\n",
            "Epoch: 4 Loss: 1.3294903639793396\n",
            "Epoch: 5 Loss: 1.2728908192920685\n",
            "Epoch: 6 Loss: 1.2379712177085878\n",
            "Epoch: 7 Loss: 1.2069621272277833\n",
            "Epoch: 8 Loss: 1.177622131729126\n",
            "Epoch: 9 Loss: 1.1521157801151276\n"
          ]
        }
      ],
      "source": [
        "N_EPOCHS = 10\n",
        "for epoch in range(N_EPOCHS):\n",
        "\n",
        "    epoch_loss = 0.0\n",
        "    for inputs, labels in trainloader:\n",
        "        inputs = inputs.to(device)\n",
        "        labels = labels.to(device)\n",
        "\n",
        "        optimizer.zero_grad()\n",
        "\n",
        "        outputs = model(inputs)\n",
        "        loss = criterion(outputs, labels)\n",
        "        loss.backward()\n",
        "        optimizer.step()\n",
        "\n",
        "        epoch_loss += loss.item()\n",
        "    print(\"Epoch: {} Loss: {}\".format(epoch, epoch_loss/len(trainloader)))"
      ]
    },
    {
      "cell_type": "code",
      "execution_count": null,
      "metadata": {
        "id": "aJvoSisNo5Tt"
      },
      "outputs": [],
      "source": [
        "from torch.utils.data import random_split\n",
        "\n",
        "train_set, val_set = random_split(\n",
        "                      train_data,\n",
        "                      [40000, 10000])\n",
        "\n",
        "trainloader = torch.utils.data.DataLoader(\n",
        "                    train_set,\n",
        "                    batch_size=16,\n",
        "                    shuffle=True)\n",
        "\n",
        "valloader = torch.utils.data.DataLoader(\n",
        "                    val_set,\n",
        "                    batch_size=16,\n",
        "                    shuffle=True)\n",
        "\n",
        "print(len(trainloader))\n",
        "# out: 2500\n",
        "print(len(valloader))\n",
        "# out: 625"
      ]
    },
    {
      "cell_type": "code",
      "execution_count": null,
      "metadata": {
        "id": "hg8w75iEqeAu"
      },
      "outputs": [],
      "source": [
        "from torch import optim\n",
        "from torch import nn\n",
        "\n",
        "model = LeNet5().to(device)\n",
        "criterion = nn.CrossEntropyLoss()\n",
        "optimizer = optim.SGD(model.parameters(),\n",
        "                      lr=0.001,\n",
        "                      momentum=0.9)"
      ]
    },
    {
      "cell_type": "code",
      "execution_count": null,
      "metadata": {
        "id": "FWHGGR3eqeml"
      },
      "outputs": [],
      "source": [
        "N_EPOCHS = 10\n",
        "for epoch in range(N_EPOCHS):\n",
        "\n",
        "    # Training\n",
        "    train_loss = 0.0\n",
        "    model.train() #1\n",
        "    for inputs, labels in trainloader:\n",
        "        inputs = inputs.to(device)\n",
        "        labels = labels.to(device)\n",
        "\n",
        "        optimizer.zero_grad()\n",
        "\n",
        "        outputs = model(inputs)\n",
        "        loss = criterion(outputs, labels)\n",
        "        loss.backward()\n",
        "        optimizer.step()\n",
        "\n",
        "        train_loss += loss.item()\n",
        "\n",
        "    # Validation\n",
        "    val_loss = 0.0\n",
        "    model.eval() #2\n",
        "    for inputs, labels in valloader:\n",
        "        inputs = inputs.to(device)\n",
        "        labels = labels.to(device)\n",
        "\n",
        "        outputs = model(inputs)\n",
        "        loss = criterion(outputs, labels)\n",
        "\n",
        "        val_loss += loss.item()\n",
        "\n",
        "    print(\n",
        "      \"Epoch: {} Train Loss: {} Val Loss: {}\".format(\n",
        "                  epoch,\n",
        "                  train_loss/len(trainloader),\n",
        "                  val_loss/len(valloader)))"
      ]
    },
    {
      "cell_type": "code",
      "execution_count": null,
      "metadata": {
        "colab": {
          "base_uri": "https://localhost:8080/"
        },
        "id": "rkKNfcrSqjjT",
        "outputId": "e366bdb0-ec03-473c-fffa-6e508d0bd491"
      },
      "outputs": [
        {
          "name": "stdout",
          "output_type": "stream",
          "text": [
            "625 16\n",
            "Test Accuracy: 0.09999999403953552\n"
          ]
        }
      ],
      "source": [
        "num_correct = 0.0\n",
        "for x_test_batch, y_test_batch in testloader:\n",
        "  model.eval() #1\n",
        "  y_test_batch = y_test_batch.to(device)\n",
        "  x_test_batch = x_test_batch.to(device)\n",
        "  y_pred_batch = model(x_test_batch) #2\n",
        "  _, predicted = torch.max(y_pred_batch, 1) #3\n",
        "  num_correct += (predicted ==\n",
        "    y_test_batch).float().sum() #4\n",
        "\n",
        "accuracy = num_correct/(len(testloader) \\\n",
        "  *testloader.batch_size) #5\n",
        "\n",
        "print(len(testloader), testloader.batch_size)\n",
        "# out: 625 16\n",
        "\n",
        "print(\"Test Accuracy: {}\".format(accuracy))\n",
        "# out: Test Accuracy: 0.6322000026702881"
      ]
    }
  ],
  "metadata": {
    "accelerator": "GPU",
    "colab": {
      "gpuType": "T4",
      "provenance": []
    },
    "kernelspec": {
      "display_name": "Python 3",
      "name": "python3"
    },
    "language_info": {
      "name": "python"
    }
  },
  "nbformat": 4,
  "nbformat_minor": 0
}
